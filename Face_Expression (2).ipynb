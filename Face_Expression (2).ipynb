{
 "cells": [
  {
   "cell_type": "code",
   "execution_count": 6,
   "metadata": {},
   "outputs": [],
   "source": [
    "from tensorflow.keras.models import model_from_json\n",
    "from tensorflow.keras.applications.mobilenet_v2 import preprocess_input\n",
    "import cv2\n",
    "import numpy as np\n",
    "\n",
    "import matplotlib.pyplot as plt\n",
    "import tensorflow as tf"
   ]
  },
  {
   "cell_type": "code",
   "execution_count": 7,
   "metadata": {},
   "outputs": [],
   "source": [
    "face_clsfr=cv2.CascadeClassifier('face_xml.xml') #Loading the face Detector classifier\n",
    "source=cv2.VideoCapture(0) #starting the video feed of our web cam       \n",
    "color_dict={0:(0,255,0),1:(0,0,255)}   #Defining colors for categories"
   ]
  },
  {
   "cell_type": "code",
   "execution_count": 8,
   "metadata": {},
   "outputs": [],
   "source": [
    "import tensorflow as tf\n",
    "model_filepath = './final_model.h5'\n",
    "model = tf.keras.models.load_model(\n",
    "    model_filepath,\n",
    "    custom_objects=None,\n",
    "    compile=False\n",
    ")\n",
    "\n",
    "\n",
    "label_map = ['Anger', 'Disgust', 'Fear', 'Happy', 'Sad', 'Surprise', 'Neutral']"
   ]
  },
  {
   "cell_type": "code",
   "execution_count": 9,
   "metadata": {
    "scrolled": true
   },
   "outputs": [],
   "source": [
    "import time\n",
    "import os\n",
    "import shutil\n",
    "import datetime\n",
    "from datetime import datetime\n",
    "f=open(\"chattel.txt\",\"w\")\n",
    "f.truncate(0)\n",
    "f.close()\n",
    "acount=0\n",
    "dcount=0\n",
    "fcount=0\n",
    "hcount=0\n",
    "scount=0\n",
    "spcount=0\n",
    "ncount=0\n",
    "while(True):\n",
    "\n",
    "    ret,img=source.read()\n",
    "    gray_img=cv2.cvtColor(img,cv2.COLOR_BGR2GRAY)\n",
    "    faces=face_clsfr.detectMultiScale(gray_img,1.05,5)  \n",
    "    \n",
    "    \n",
    "    for (x,y,w,h) in faces:\n",
    "    \n",
    "        face_img=img[y:y+w,x:x+w]\n",
    "        resized=cv2.resize(face_img,(48, 48))\n",
    "        reshaped=np.reshape(resized,(1,48, 48,3))\n",
    "        result=model.predict(reshaped)\n",
    "        label = result[0].tolist().index(max(result[0]))\n",
    "        label = label_map[label]\n",
    "        f = open(\"chattel.txt\", \"a+\")\n",
    "        \n",
    "        \n",
    "        \n",
    "      \n",
    "        cv2.rectangle(img,(x,y),(x+w,y+h),(0, 0, 255),2)\n",
    "        cv2.rectangle(img,(x,y-40),(x+w,y),(0, 0, 255),-1)\n",
    "        cv2.putText(img, label, (x, y-10),cv2.FONT_HERSHEY_SIMPLEX,0.8,(255,255,255),2)\n",
    "        if(label=='Anger'):\n",
    "            acount+=1\n",
    "        elif(label=='Disgust'):\n",
    "            dcount+=1\n",
    "        elif(label=='Fear'):\n",
    "            fcount+=1\n",
    "        elif(label=='Happy'):\n",
    "            hcount+=1\n",
    "        elif(label=='Sad'):\n",
    "            scount+=1\n",
    "        elif(label=='Surprise'):\n",
    "            spcount+=1\n",
    "        else:\n",
    "            ncount+=1\n",
    "        \n",
    "    cv2.imshow('LIVE',img)\n",
    "    key=cv2.waitKey(1)\n",
    "    \n",
    "    if(key==ord('q')):\n",
    "        total=acount+dcount+fcount+hcount+scount+spcount+ncount\n",
    "        f.write('Anger '+str((acount/total)*100)+'\\n')\n",
    "        f.write('Disgust '+str((dcount/total)*100)+'\\n')\n",
    "        f.write('Fear '+str((fcount/total)*100)+'\\n')\n",
    "        f.write('Happy '+str((hcount/total)*100)+'\\n')\n",
    "        f.write('Sad '+str((scount/total)*100)+'\\n')\n",
    "        f.write('Surpise '+str((spcount/total)*100)+'\\n')\n",
    "        f.write('Neutral '+str((ncount/total)*100)+'\\n')\n",
    "        f.close()\n",
    "        break\n",
    "        \n",
    "cv2.destroyAllWindows()\n",
    "source.release()"
   ]
  },
  {
   "cell_type": "code",
   "execution_count": null,
   "metadata": {},
   "outputs": [],
   "source": []
  },
  {
   "cell_type": "code",
   "execution_count": null,
   "metadata": {},
   "outputs": [],
   "source": []
  }
 ],
 "metadata": {
  "kernelspec": {
   "display_name": "Python 3",
   "language": "python",
   "name": "python3"
  },
  "language_info": {
   "codemirror_mode": {
    "name": "ipython",
    "version": 3
   },
   "file_extension": ".py",
   "mimetype": "text/x-python",
   "name": "python",
   "nbconvert_exporter": "python",
   "pygments_lexer": "ipython3",
   "version": "3.7.3"
  }
 },
 "nbformat": 4,
 "nbformat_minor": 2
}
